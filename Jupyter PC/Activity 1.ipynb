{
 "cells": [
  {
   "cell_type": "markdown",
   "id": "abd0885e-3aa6-4bb8-a6d1-2a14b6645c6f",
   "metadata": {},
   "source": [
    "<h1>ACTIVITY: Palmer Penguins Data Analytics</h1>\n",
    "<hr>"
   ]
  },
  {
   "cell_type": "markdown",
   "id": "2b3e2a64-c302-4f22-9e49-a99ad7a75778",
   "metadata": {},
   "source": [
    "<h4>Kyle M. De Los Santos</h4>"
   ]
  },
  {
   "cell_type": "code",
   "execution_count": 1,
   "id": "6040a516-fc5d-476b-ba73-a0cfa51662b5",
   "metadata": {},
   "outputs": [],
   "source": [
    "#l Libraries"
   ]
  },
  {
   "cell_type": "code",
   "execution_count": 2,
   "id": "47fdb8f0-6dbd-4242-b19e-bf7b28ecd75b",
   "metadata": {},
   "outputs": [],
   "source": [
    "import numpy as np\n",
    "import pandas as pd\n",
    "import warnings\n",
    "warnings.filterwarnings(\"ignore\")"
   ]
  },
  {
   "cell_type": "code",
   "execution_count": 3,
   "id": "44c4f247-27cd-4655-9db2-bd55fae2cb31",
   "metadata": {},
   "outputs": [],
   "source": [
    "bird = pd.read_csv(\"Datasets\\\\penguins.csv\")"
   ]
  },
  {
   "cell_type": "code",
   "execution_count": 4,
   "id": "3fafa71d-7a2a-4745-9320-a3e99103b892",
   "metadata": {
    "scrolled": true
   },
   "outputs": [
    {
     "data": {
      "text/html": [
       "<div>\n",
       "<style scoped>\n",
       "    .dataframe tbody tr th:only-of-type {\n",
       "        vertical-align: middle;\n",
       "    }\n",
       "\n",
       "    .dataframe tbody tr th {\n",
       "        vertical-align: top;\n",
       "    }\n",
       "\n",
       "    .dataframe thead th {\n",
       "        text-align: right;\n",
       "    }\n",
       "</style>\n",
       "<table border=\"1\" class=\"dataframe\">\n",
       "  <thead>\n",
       "    <tr style=\"text-align: right;\">\n",
       "      <th></th>\n",
       "      <th>species</th>\n",
       "      <th>island</th>\n",
       "      <th>bill_length_mm</th>\n",
       "      <th>bill_depth_mm</th>\n",
       "      <th>flipper_length_mm</th>\n",
       "      <th>body_mass_g</th>\n",
       "      <th>sex</th>\n",
       "      <th>year</th>\n",
       "    </tr>\n",
       "  </thead>\n",
       "  <tbody>\n",
       "    <tr>\n",
       "      <th>0</th>\n",
       "      <td>Adelie</td>\n",
       "      <td>Torgersen</td>\n",
       "      <td>39.1</td>\n",
       "      <td>18.7</td>\n",
       "      <td>181.0</td>\n",
       "      <td>3750.0</td>\n",
       "      <td>male</td>\n",
       "      <td>2007</td>\n",
       "    </tr>\n",
       "    <tr>\n",
       "      <th>1</th>\n",
       "      <td>Adelie</td>\n",
       "      <td>Torgersen</td>\n",
       "      <td>39.5</td>\n",
       "      <td>17.4</td>\n",
       "      <td>186.0</td>\n",
       "      <td>3800.0</td>\n",
       "      <td>female</td>\n",
       "      <td>2007</td>\n",
       "    </tr>\n",
       "    <tr>\n",
       "      <th>2</th>\n",
       "      <td>Adelie</td>\n",
       "      <td>Torgersen</td>\n",
       "      <td>40.3</td>\n",
       "      <td>18.0</td>\n",
       "      <td>195.0</td>\n",
       "      <td>3250.0</td>\n",
       "      <td>female</td>\n",
       "      <td>2007</td>\n",
       "    </tr>\n",
       "    <tr>\n",
       "      <th>3</th>\n",
       "      <td>Adelie</td>\n",
       "      <td>Torgersen</td>\n",
       "      <td>NaN</td>\n",
       "      <td>NaN</td>\n",
       "      <td>NaN</td>\n",
       "      <td>NaN</td>\n",
       "      <td>NaN</td>\n",
       "      <td>2007</td>\n",
       "    </tr>\n",
       "    <tr>\n",
       "      <th>4</th>\n",
       "      <td>Adelie</td>\n",
       "      <td>Torgersen</td>\n",
       "      <td>36.7</td>\n",
       "      <td>19.3</td>\n",
       "      <td>193.0</td>\n",
       "      <td>3450.0</td>\n",
       "      <td>female</td>\n",
       "      <td>2007</td>\n",
       "    </tr>\n",
       "    <tr>\n",
       "      <th>...</th>\n",
       "      <td>...</td>\n",
       "      <td>...</td>\n",
       "      <td>...</td>\n",
       "      <td>...</td>\n",
       "      <td>...</td>\n",
       "      <td>...</td>\n",
       "      <td>...</td>\n",
       "      <td>...</td>\n",
       "    </tr>\n",
       "    <tr>\n",
       "      <th>339</th>\n",
       "      <td>Chinstrap</td>\n",
       "      <td>Dream</td>\n",
       "      <td>55.8</td>\n",
       "      <td>19.8</td>\n",
       "      <td>207.0</td>\n",
       "      <td>4000.0</td>\n",
       "      <td>male</td>\n",
       "      <td>2009</td>\n",
       "    </tr>\n",
       "    <tr>\n",
       "      <th>340</th>\n",
       "      <td>Chinstrap</td>\n",
       "      <td>Dream</td>\n",
       "      <td>43.5</td>\n",
       "      <td>18.1</td>\n",
       "      <td>202.0</td>\n",
       "      <td>3400.0</td>\n",
       "      <td>female</td>\n",
       "      <td>2009</td>\n",
       "    </tr>\n",
       "    <tr>\n",
       "      <th>341</th>\n",
       "      <td>Chinstrap</td>\n",
       "      <td>Dream</td>\n",
       "      <td>49.6</td>\n",
       "      <td>18.2</td>\n",
       "      <td>193.0</td>\n",
       "      <td>3775.0</td>\n",
       "      <td>male</td>\n",
       "      <td>2009</td>\n",
       "    </tr>\n",
       "    <tr>\n",
       "      <th>342</th>\n",
       "      <td>Chinstrap</td>\n",
       "      <td>Dream</td>\n",
       "      <td>50.8</td>\n",
       "      <td>19.0</td>\n",
       "      <td>210.0</td>\n",
       "      <td>4100.0</td>\n",
       "      <td>male</td>\n",
       "      <td>2009</td>\n",
       "    </tr>\n",
       "    <tr>\n",
       "      <th>343</th>\n",
       "      <td>Chinstrap</td>\n",
       "      <td>Dream</td>\n",
       "      <td>50.2</td>\n",
       "      <td>18.7</td>\n",
       "      <td>198.0</td>\n",
       "      <td>3775.0</td>\n",
       "      <td>female</td>\n",
       "      <td>2009</td>\n",
       "    </tr>\n",
       "  </tbody>\n",
       "</table>\n",
       "<p>344 rows × 8 columns</p>\n",
       "</div>"
      ],
      "text/plain": [
       "       species     island  bill_length_mm  bill_depth_mm  flipper_length_mm  \\\n",
       "0       Adelie  Torgersen            39.1           18.7              181.0   \n",
       "1       Adelie  Torgersen            39.5           17.4              186.0   \n",
       "2       Adelie  Torgersen            40.3           18.0              195.0   \n",
       "3       Adelie  Torgersen             NaN            NaN                NaN   \n",
       "4       Adelie  Torgersen            36.7           19.3              193.0   \n",
       "..         ...        ...             ...            ...                ...   \n",
       "339  Chinstrap      Dream            55.8           19.8              207.0   \n",
       "340  Chinstrap      Dream            43.5           18.1              202.0   \n",
       "341  Chinstrap      Dream            49.6           18.2              193.0   \n",
       "342  Chinstrap      Dream            50.8           19.0              210.0   \n",
       "343  Chinstrap      Dream            50.2           18.7              198.0   \n",
       "\n",
       "     body_mass_g     sex  year  \n",
       "0         3750.0    male  2007  \n",
       "1         3800.0  female  2007  \n",
       "2         3250.0  female  2007  \n",
       "3            NaN     NaN  2007  \n",
       "4         3450.0  female  2007  \n",
       "..           ...     ...   ...  \n",
       "339       4000.0    male  2009  \n",
       "340       3400.0  female  2009  \n",
       "341       3775.0    male  2009  \n",
       "342       4100.0    male  2009  \n",
       "343       3775.0  female  2009  \n",
       "\n",
       "[344 rows x 8 columns]"
      ]
     },
     "execution_count": 4,
     "metadata": {},
     "output_type": "execute_result"
    }
   ],
   "source": [
    "bird"
   ]
  },
  {
   "cell_type": "markdown",
   "id": "f45a0d92-30cd-46d8-a471-05ae93719044",
   "metadata": {},
   "source": [
    "<h2>Descriptive Analytics</h2>"
   ]
  },
  {
   "cell_type": "code",
   "execution_count": 5,
   "id": "c1b00480-25da-4fe5-8f17-f14d2307255e",
   "metadata": {},
   "outputs": [
    {
     "data": {
      "text/html": [
       "<div>\n",
       "<style scoped>\n",
       "    .dataframe tbody tr th:only-of-type {\n",
       "        vertical-align: middle;\n",
       "    }\n",
       "\n",
       "    .dataframe tbody tr th {\n",
       "        vertical-align: top;\n",
       "    }\n",
       "\n",
       "    .dataframe thead th {\n",
       "        text-align: right;\n",
       "    }\n",
       "</style>\n",
       "<table border=\"1\" class=\"dataframe\">\n",
       "  <thead>\n",
       "    <tr style=\"text-align: right;\">\n",
       "      <th></th>\n",
       "      <th>bill_length_mm</th>\n",
       "      <th>bill_depth_mm</th>\n",
       "      <th>flipper_length_mm</th>\n",
       "      <th>body_mass_g</th>\n",
       "      <th>year</th>\n",
       "    </tr>\n",
       "  </thead>\n",
       "  <tbody>\n",
       "    <tr>\n",
       "      <th>count</th>\n",
       "      <td>342.000000</td>\n",
       "      <td>342.000000</td>\n",
       "      <td>342.000000</td>\n",
       "      <td>342.000000</td>\n",
       "      <td>344.000000</td>\n",
       "    </tr>\n",
       "    <tr>\n",
       "      <th>mean</th>\n",
       "      <td>43.921930</td>\n",
       "      <td>17.151170</td>\n",
       "      <td>200.915205</td>\n",
       "      <td>4201.754386</td>\n",
       "      <td>2008.029070</td>\n",
       "    </tr>\n",
       "    <tr>\n",
       "      <th>std</th>\n",
       "      <td>5.459584</td>\n",
       "      <td>1.974793</td>\n",
       "      <td>14.061714</td>\n",
       "      <td>801.954536</td>\n",
       "      <td>0.818356</td>\n",
       "    </tr>\n",
       "    <tr>\n",
       "      <th>min</th>\n",
       "      <td>32.100000</td>\n",
       "      <td>13.100000</td>\n",
       "      <td>172.000000</td>\n",
       "      <td>2700.000000</td>\n",
       "      <td>2007.000000</td>\n",
       "    </tr>\n",
       "    <tr>\n",
       "      <th>25%</th>\n",
       "      <td>39.225000</td>\n",
       "      <td>15.600000</td>\n",
       "      <td>190.000000</td>\n",
       "      <td>3550.000000</td>\n",
       "      <td>2007.000000</td>\n",
       "    </tr>\n",
       "    <tr>\n",
       "      <th>50%</th>\n",
       "      <td>44.450000</td>\n",
       "      <td>17.300000</td>\n",
       "      <td>197.000000</td>\n",
       "      <td>4050.000000</td>\n",
       "      <td>2008.000000</td>\n",
       "    </tr>\n",
       "    <tr>\n",
       "      <th>75%</th>\n",
       "      <td>48.500000</td>\n",
       "      <td>18.700000</td>\n",
       "      <td>213.000000</td>\n",
       "      <td>4750.000000</td>\n",
       "      <td>2009.000000</td>\n",
       "    </tr>\n",
       "    <tr>\n",
       "      <th>max</th>\n",
       "      <td>59.600000</td>\n",
       "      <td>21.500000</td>\n",
       "      <td>231.000000</td>\n",
       "      <td>6300.000000</td>\n",
       "      <td>2009.000000</td>\n",
       "    </tr>\n",
       "  </tbody>\n",
       "</table>\n",
       "</div>"
      ],
      "text/plain": [
       "       bill_length_mm  bill_depth_mm  flipper_length_mm  body_mass_g  \\\n",
       "count      342.000000     342.000000         342.000000   342.000000   \n",
       "mean        43.921930      17.151170         200.915205  4201.754386   \n",
       "std          5.459584       1.974793          14.061714   801.954536   \n",
       "min         32.100000      13.100000         172.000000  2700.000000   \n",
       "25%         39.225000      15.600000         190.000000  3550.000000   \n",
       "50%         44.450000      17.300000         197.000000  4050.000000   \n",
       "75%         48.500000      18.700000         213.000000  4750.000000   \n",
       "max         59.600000      21.500000         231.000000  6300.000000   \n",
       "\n",
       "              year  \n",
       "count   344.000000  \n",
       "mean   2008.029070  \n",
       "std       0.818356  \n",
       "min    2007.000000  \n",
       "25%    2007.000000  \n",
       "50%    2008.000000  \n",
       "75%    2009.000000  \n",
       "max    2009.000000  "
      ]
     },
     "execution_count": 5,
     "metadata": {},
     "output_type": "execute_result"
    }
   ],
   "source": [
    "bird.describe()"
   ]
  },
  {
   "cell_type": "code",
   "execution_count": 6,
   "id": "2e5b918a-fe74-4e93-ae2e-0091673c8097",
   "metadata": {},
   "outputs": [
    {
     "data": {
      "text/html": [
       "<div>\n",
       "<style scoped>\n",
       "    .dataframe tbody tr th:only-of-type {\n",
       "        vertical-align: middle;\n",
       "    }\n",
       "\n",
       "    .dataframe tbody tr th {\n",
       "        vertical-align: top;\n",
       "    }\n",
       "\n",
       "    .dataframe thead th {\n",
       "        text-align: right;\n",
       "    }\n",
       "</style>\n",
       "<table border=\"1\" class=\"dataframe\">\n",
       "  <thead>\n",
       "    <tr style=\"text-align: right;\">\n",
       "      <th></th>\n",
       "      <th>count</th>\n",
       "      <th>mean</th>\n",
       "      <th>std</th>\n",
       "      <th>min</th>\n",
       "      <th>25%</th>\n",
       "      <th>50%</th>\n",
       "      <th>75%</th>\n",
       "      <th>max</th>\n",
       "    </tr>\n",
       "  </thead>\n",
       "  <tbody>\n",
       "    <tr>\n",
       "      <th>bill_length_mm</th>\n",
       "      <td>342.0</td>\n",
       "      <td>43.921930</td>\n",
       "      <td>5.459584</td>\n",
       "      <td>32.1</td>\n",
       "      <td>39.225</td>\n",
       "      <td>44.45</td>\n",
       "      <td>48.5</td>\n",
       "      <td>59.6</td>\n",
       "    </tr>\n",
       "    <tr>\n",
       "      <th>bill_depth_mm</th>\n",
       "      <td>342.0</td>\n",
       "      <td>17.151170</td>\n",
       "      <td>1.974793</td>\n",
       "      <td>13.1</td>\n",
       "      <td>15.600</td>\n",
       "      <td>17.30</td>\n",
       "      <td>18.7</td>\n",
       "      <td>21.5</td>\n",
       "    </tr>\n",
       "    <tr>\n",
       "      <th>flipper_length_mm</th>\n",
       "      <td>342.0</td>\n",
       "      <td>200.915205</td>\n",
       "      <td>14.061714</td>\n",
       "      <td>172.0</td>\n",
       "      <td>190.000</td>\n",
       "      <td>197.00</td>\n",
       "      <td>213.0</td>\n",
       "      <td>231.0</td>\n",
       "    </tr>\n",
       "    <tr>\n",
       "      <th>body_mass_g</th>\n",
       "      <td>342.0</td>\n",
       "      <td>4201.754386</td>\n",
       "      <td>801.954536</td>\n",
       "      <td>2700.0</td>\n",
       "      <td>3550.000</td>\n",
       "      <td>4050.00</td>\n",
       "      <td>4750.0</td>\n",
       "      <td>6300.0</td>\n",
       "    </tr>\n",
       "    <tr>\n",
       "      <th>year</th>\n",
       "      <td>344.0</td>\n",
       "      <td>2008.029070</td>\n",
       "      <td>0.818356</td>\n",
       "      <td>2007.0</td>\n",
       "      <td>2007.000</td>\n",
       "      <td>2008.00</td>\n",
       "      <td>2009.0</td>\n",
       "      <td>2009.0</td>\n",
       "    </tr>\n",
       "  </tbody>\n",
       "</table>\n",
       "</div>"
      ],
      "text/plain": [
       "                   count         mean         std     min       25%      50%  \\\n",
       "bill_length_mm     342.0    43.921930    5.459584    32.1    39.225    44.45   \n",
       "bill_depth_mm      342.0    17.151170    1.974793    13.1    15.600    17.30   \n",
       "flipper_length_mm  342.0   200.915205   14.061714   172.0   190.000   197.00   \n",
       "body_mass_g        342.0  4201.754386  801.954536  2700.0  3550.000  4050.00   \n",
       "year               344.0  2008.029070    0.818356  2007.0  2007.000  2008.00   \n",
       "\n",
       "                      75%     max  \n",
       "bill_length_mm       48.5    59.6  \n",
       "bill_depth_mm        18.7    21.5  \n",
       "flipper_length_mm   213.0   231.0  \n",
       "body_mass_g        4750.0  6300.0  \n",
       "year               2009.0  2009.0  "
      ]
     },
     "execution_count": 6,
     "metadata": {},
     "output_type": "execute_result"
    }
   ],
   "source": [
    "bird.describe().T"
   ]
  },
  {
   "cell_type": "markdown",
   "id": "49f0d410-593f-4850-a673-82428ee41a44",
   "metadata": {},
   "source": [
    "<h3>Filtering a Column/Data</h3>"
   ]
  },
  {
   "cell_type": "code",
   "execution_count": 7,
   "id": "7913f168-2b22-48ec-9228-dc80f55c12d4",
   "metadata": {},
   "outputs": [
    {
     "data": {
      "text/plain": [
       "species\n",
       "Adelie       152\n",
       "Gentoo       124\n",
       "Chinstrap     68\n",
       "Name: count, dtype: int64"
      ]
     },
     "execution_count": 7,
     "metadata": {},
     "output_type": "execute_result"
    }
   ],
   "source": [
    "bird[\"species\"].value_counts()"
   ]
  },
  {
   "cell_type": "code",
   "execution_count": 8,
   "id": "c68be7f7-8ea9-44fb-8453-fd610e2ca490",
   "metadata": {},
   "outputs": [
    {
     "data": {
      "text/plain": [
       "island\n",
       "Biscoe       168\n",
       "Dream        124\n",
       "Torgersen     52\n",
       "Name: count, dtype: int64"
      ]
     },
     "execution_count": 8,
     "metadata": {},
     "output_type": "execute_result"
    }
   ],
   "source": [
    "bird[\"island\"].value_counts()"
   ]
  },
  {
   "cell_type": "code",
   "execution_count": 9,
   "id": "d4b7fa16-2b28-4de8-9a12-5aea13ae40cc",
   "metadata": {},
   "outputs": [],
   "source": [
    "adelie_df = bird[bird[\"species\"] == \"Adelie\"]"
   ]
  },
  {
   "cell_type": "code",
   "execution_count": 10,
   "id": "b6e85c04-cfbc-46b4-bc78-d676980737b1",
   "metadata": {},
   "outputs": [
    {
     "data": {
      "text/plain": [
       "np.float64(3700.662251655629)"
      ]
     },
     "execution_count": 10,
     "metadata": {},
     "output_type": "execute_result"
    }
   ],
   "source": [
    "adelie_df[\"body_mass_g\"].mean()"
   ]
  },
  {
   "cell_type": "code",
   "execution_count": 11,
   "id": "c4d67f6e-4f0c-4071-a58e-359c8698637f",
   "metadata": {},
   "outputs": [],
   "source": [
    "gentoo_df = bird[bird[\"species\"] == \"Gentoo\"]"
   ]
  },
  {
   "cell_type": "code",
   "execution_count": 12,
   "id": "49da0e52-8a3b-432d-a4ef-e49eb7f9e57c",
   "metadata": {},
   "outputs": [
    {
     "data": {
      "text/plain": [
       "np.float64(5076.016260162602)"
      ]
     },
     "execution_count": 12,
     "metadata": {},
     "output_type": "execute_result"
    }
   ],
   "source": [
    "gentoo_df[\"body_mass_g\"].mean()"
   ]
  },
  {
   "cell_type": "code",
   "execution_count": 13,
   "id": "3ad39499-0077-482a-a3a5-40c382c60290",
   "metadata": {},
   "outputs": [],
   "source": [
    "chinstrap_df = bird[bird[\"species\"] == \"Chinstrap\"]"
   ]
  },
  {
   "cell_type": "code",
   "execution_count": 14,
   "id": "b61a550a-8e8a-4fdd-b665-18351bbe5339",
   "metadata": {},
   "outputs": [
    {
     "data": {
      "text/plain": [
       "np.float64(3733.0882352941176)"
      ]
     },
     "execution_count": 14,
     "metadata": {},
     "output_type": "execute_result"
    }
   ],
   "source": [
    "chinstrap_df[\"body_mass_g\"].mean()"
   ]
  },
  {
   "cell_type": "markdown",
   "id": "c8864c9e-5ab3-4b22-b23b-52ecb92010ba",
   "metadata": {},
   "source": [
    "<h2>Cleaning the Data Frame</h2>"
   ]
  },
  {
   "cell_type": "code",
   "execution_count": 15,
   "id": "985cd64b-bbee-40f4-bb1f-1627d5f89e1a",
   "metadata": {},
   "outputs": [
    {
     "data": {
      "text/plain": [
       "species               0\n",
       "island                0\n",
       "bill_length_mm        2\n",
       "bill_depth_mm         2\n",
       "flipper_length_mm     2\n",
       "body_mass_g           2\n",
       "sex                  11\n",
       "year                  0\n",
       "dtype: int64"
      ]
     },
     "execution_count": 15,
     "metadata": {},
     "output_type": "execute_result"
    }
   ],
   "source": [
    "bird.isnull().sum()"
   ]
  },
  {
   "cell_type": "markdown",
   "id": "f2a33a21-0c32-44e6-879c-dc4410871684",
   "metadata": {},
   "source": [
    "<h2>How do we check for NULL VALUES</h2>"
   ]
  },
  {
   "cell_type": "code",
   "execution_count": 16,
   "id": "994a16e9-840b-4a49-a21a-a248e29d09f6",
   "metadata": {},
   "outputs": [
    {
     "data": {
      "text/plain": [
       "np.float64(43.9219298245614)"
      ]
     },
     "execution_count": 16,
     "metadata": {},
     "output_type": "execute_result"
    }
   ],
   "source": [
    "bird[\"bill_length_mm\"].mean()"
   ]
  },
  {
   "cell_type": "code",
   "execution_count": 17,
   "id": "167f0dcb-a3a4-4351-a751-ee53d9999c06",
   "metadata": {},
   "outputs": [
    {
     "data": {
      "text/plain": [
       "np.float64(17.151169590643274)"
      ]
     },
     "execution_count": 17,
     "metadata": {},
     "output_type": "execute_result"
    }
   ],
   "source": [
    "bird[\"bill_depth_mm\"].mean()"
   ]
  },
  {
   "cell_type": "code",
   "execution_count": 18,
   "id": "1f9eefd9-661c-448b-a867-954a42111645",
   "metadata": {},
   "outputs": [
    {
     "data": {
      "text/plain": [
       "np.float64(200.91520467836258)"
      ]
     },
     "execution_count": 18,
     "metadata": {},
     "output_type": "execute_result"
    }
   ],
   "source": [
    "bird[\"flipper_length_mm\"].mean()"
   ]
  },
  {
   "cell_type": "code",
   "execution_count": 19,
   "id": "e1ec5e21-e871-4fee-868f-3c44731c9fbc",
   "metadata": {},
   "outputs": [
    {
     "data": {
      "text/plain": [
       "np.float64(4201.754385964912)"
      ]
     },
     "execution_count": 19,
     "metadata": {},
     "output_type": "execute_result"
    }
   ],
   "source": [
    "bird[\"body_mass_g\"].mean()"
   ]
  },
  {
   "cell_type": "code",
   "execution_count": 20,
   "id": "b7039731-f1d9-4c1b-b905-a67a3c6ae899",
   "metadata": {},
   "outputs": [
    {
     "data": {
      "text/plain": [
       "0    male\n",
       "Name: sex, dtype: object"
      ]
     },
     "execution_count": 20,
     "metadata": {},
     "output_type": "execute_result"
    }
   ],
   "source": [
    "bird[\"sex\"].mode()"
   ]
  },
  {
   "cell_type": "markdown",
   "id": "8d0d9082-54ba-4b90-ae13-5647be368b4f",
   "metadata": {},
   "source": [
    "<h2>How to Fill-up NULL VALUES</h2>"
   ]
  },
  {
   "cell_type": "code",
   "execution_count": 21,
   "id": "901c8e98-c76f-480a-8e5c-a5736b975d8f",
   "metadata": {},
   "outputs": [],
   "source": [
    "bird[\"bill_length_mm\"] = bird[\"bill_length_mm\"].fillna(bird[\"bill_length_mm\"].mean())\n",
    "bird[\"bill_depth_mm\"] = bird[\"bill_depth_mm\"].fillna(bird[\"bill_depth_mm\"].mean())\n",
    "bird[\"flipper_length_mm\"] = bird[\"flipper_length_mm\"].fillna(bird[\"flipper_length_mm\"].mean())\n",
    "bird[\"body_mass_g\"] = bird[\"body_mass_g\"].fillna(bird[\"body_mass_g\"].mean())\n",
    "bird[\"sex\"] = bird[\"sex\"].fillna(bird[\"sex\"].mode()[0])"
   ]
  },
  {
   "cell_type": "code",
   "execution_count": 22,
   "id": "61bf5dbf-4b90-4d31-8514-65969d4e8811",
   "metadata": {},
   "outputs": [
    {
     "data": {
      "text/plain": [
       "species              0\n",
       "island               0\n",
       "bill_length_mm       0\n",
       "bill_depth_mm        0\n",
       "flipper_length_mm    0\n",
       "body_mass_g          0\n",
       "sex                  0\n",
       "year                 0\n",
       "dtype: int64"
      ]
     },
     "execution_count": 22,
     "metadata": {},
     "output_type": "execute_result"
    }
   ],
   "source": [
    "bird.isnull().sum()"
   ]
  },
  {
   "cell_type": "markdown",
   "id": "2d3283aa-77f8-494b-a40b-07689f788fb9",
   "metadata": {},
   "source": [
    "<h2>Data Types</h2>"
   ]
  },
  {
   "cell_type": "code",
   "execution_count": 23,
   "id": "2f250abd-49fe-4034-8128-b45d5e8ce92b",
   "metadata": {},
   "outputs": [
    {
     "name": "stdout",
     "output_type": "stream",
     "text": [
      "<class 'pandas.core.frame.DataFrame'>\n",
      "RangeIndex: 344 entries, 0 to 343\n",
      "Data columns (total 8 columns):\n",
      " #   Column             Non-Null Count  Dtype  \n",
      "---  ------             --------------  -----  \n",
      " 0   species            344 non-null    object \n",
      " 1   island             344 non-null    object \n",
      " 2   bill_length_mm     344 non-null    float64\n",
      " 3   bill_depth_mm      344 non-null    float64\n",
      " 4   flipper_length_mm  344 non-null    float64\n",
      " 5   body_mass_g        344 non-null    float64\n",
      " 6   sex                344 non-null    object \n",
      " 7   year               344 non-null    int64  \n",
      "dtypes: float64(4), int64(1), object(3)\n",
      "memory usage: 21.6+ KB\n"
     ]
    }
   ],
   "source": [
    "bird.info()"
   ]
  },
  {
   "cell_type": "code",
   "execution_count": 24,
   "id": "e57db034-95f1-4a02-8e08-da96c1458d06",
   "metadata": {},
   "outputs": [
    {
     "data": {
      "text/html": [
       "<div>\n",
       "<style scoped>\n",
       "    .dataframe tbody tr th:only-of-type {\n",
       "        vertical-align: middle;\n",
       "    }\n",
       "\n",
       "    .dataframe tbody tr th {\n",
       "        vertical-align: top;\n",
       "    }\n",
       "\n",
       "    .dataframe thead th {\n",
       "        text-align: right;\n",
       "    }\n",
       "</style>\n",
       "<table border=\"1\" class=\"dataframe\">\n",
       "  <thead>\n",
       "    <tr style=\"text-align: right;\">\n",
       "      <th></th>\n",
       "      <th>bill_length_mm</th>\n",
       "      <th>bill_depth_mm</th>\n",
       "      <th>flipper_length_mm</th>\n",
       "      <th>body_mass_g</th>\n",
       "      <th>year</th>\n",
       "    </tr>\n",
       "  </thead>\n",
       "  <tbody>\n",
       "    <tr>\n",
       "      <th>count</th>\n",
       "      <td>344.000000</td>\n",
       "      <td>344.000000</td>\n",
       "      <td>344.000000</td>\n",
       "      <td>344.000000</td>\n",
       "      <td>344.000000</td>\n",
       "    </tr>\n",
       "    <tr>\n",
       "      <th>mean</th>\n",
       "      <td>43.921930</td>\n",
       "      <td>17.151170</td>\n",
       "      <td>200.915205</td>\n",
       "      <td>4201.754386</td>\n",
       "      <td>2008.029070</td>\n",
       "    </tr>\n",
       "    <tr>\n",
       "      <th>std</th>\n",
       "      <td>5.443643</td>\n",
       "      <td>1.969027</td>\n",
       "      <td>14.020657</td>\n",
       "      <td>799.613058</td>\n",
       "      <td>0.818356</td>\n",
       "    </tr>\n",
       "    <tr>\n",
       "      <th>min</th>\n",
       "      <td>32.100000</td>\n",
       "      <td>13.100000</td>\n",
       "      <td>172.000000</td>\n",
       "      <td>2700.000000</td>\n",
       "      <td>2007.000000</td>\n",
       "    </tr>\n",
       "    <tr>\n",
       "      <th>25%</th>\n",
       "      <td>39.275000</td>\n",
       "      <td>15.600000</td>\n",
       "      <td>190.000000</td>\n",
       "      <td>3550.000000</td>\n",
       "      <td>2007.000000</td>\n",
       "    </tr>\n",
       "    <tr>\n",
       "      <th>50%</th>\n",
       "      <td>44.250000</td>\n",
       "      <td>17.300000</td>\n",
       "      <td>197.000000</td>\n",
       "      <td>4050.000000</td>\n",
       "      <td>2008.000000</td>\n",
       "    </tr>\n",
       "    <tr>\n",
       "      <th>75%</th>\n",
       "      <td>48.500000</td>\n",
       "      <td>18.700000</td>\n",
       "      <td>213.000000</td>\n",
       "      <td>4750.000000</td>\n",
       "      <td>2009.000000</td>\n",
       "    </tr>\n",
       "    <tr>\n",
       "      <th>max</th>\n",
       "      <td>59.600000</td>\n",
       "      <td>21.500000</td>\n",
       "      <td>231.000000</td>\n",
       "      <td>6300.000000</td>\n",
       "      <td>2009.000000</td>\n",
       "    </tr>\n",
       "  </tbody>\n",
       "</table>\n",
       "</div>"
      ],
      "text/plain": [
       "       bill_length_mm  bill_depth_mm  flipper_length_mm  body_mass_g  \\\n",
       "count      344.000000     344.000000         344.000000   344.000000   \n",
       "mean        43.921930      17.151170         200.915205  4201.754386   \n",
       "std          5.443643       1.969027          14.020657   799.613058   \n",
       "min         32.100000      13.100000         172.000000  2700.000000   \n",
       "25%         39.275000      15.600000         190.000000  3550.000000   \n",
       "50%         44.250000      17.300000         197.000000  4050.000000   \n",
       "75%         48.500000      18.700000         213.000000  4750.000000   \n",
       "max         59.600000      21.500000         231.000000  6300.000000   \n",
       "\n",
       "              year  \n",
       "count   344.000000  \n",
       "mean   2008.029070  \n",
       "std       0.818356  \n",
       "min    2007.000000  \n",
       "25%    2007.000000  \n",
       "50%    2008.000000  \n",
       "75%    2009.000000  \n",
       "max    2009.000000  "
      ]
     },
     "execution_count": 24,
     "metadata": {},
     "output_type": "execute_result"
    }
   ],
   "source": [
    "bird.describe()"
   ]
  },
  {
   "cell_type": "markdown",
   "id": "c7fd849b-dd79-4bae-b1fd-1531932ac1c7",
   "metadata": {},
   "source": [
    "<h2>Changing Data Types</h2>"
   ]
  },
  {
   "cell_type": "code",
   "execution_count": 25,
   "id": "844f46e7-3f57-487b-b887-fe25f24fc3ab",
   "metadata": {},
   "outputs": [],
   "source": [
    "bird[\"species\"] = bird[\"species\"].astype(\"category\")\n",
    "bird[\"year\"] = bird[\"year\"].astype(\"category\")"
   ]
  },
  {
   "cell_type": "code",
   "execution_count": 26,
   "id": "1ace8b29-d125-488c-ac2a-ed2636c2f0f4",
   "metadata": {},
   "outputs": [
    {
     "data": {
      "text/html": [
       "<div>\n",
       "<style scoped>\n",
       "    .dataframe tbody tr th:only-of-type {\n",
       "        vertical-align: middle;\n",
       "    }\n",
       "\n",
       "    .dataframe tbody tr th {\n",
       "        vertical-align: top;\n",
       "    }\n",
       "\n",
       "    .dataframe thead th {\n",
       "        text-align: right;\n",
       "    }\n",
       "</style>\n",
       "<table border=\"1\" class=\"dataframe\">\n",
       "  <thead>\n",
       "    <tr style=\"text-align: right;\">\n",
       "      <th></th>\n",
       "      <th>bill_length_mm</th>\n",
       "      <th>bill_depth_mm</th>\n",
       "      <th>flipper_length_mm</th>\n",
       "      <th>body_mass_g</th>\n",
       "    </tr>\n",
       "  </thead>\n",
       "  <tbody>\n",
       "    <tr>\n",
       "      <th>count</th>\n",
       "      <td>344.000000</td>\n",
       "      <td>344.000000</td>\n",
       "      <td>344.000000</td>\n",
       "      <td>344.000000</td>\n",
       "    </tr>\n",
       "    <tr>\n",
       "      <th>mean</th>\n",
       "      <td>43.921930</td>\n",
       "      <td>17.151170</td>\n",
       "      <td>200.915205</td>\n",
       "      <td>4201.754386</td>\n",
       "    </tr>\n",
       "    <tr>\n",
       "      <th>std</th>\n",
       "      <td>5.443643</td>\n",
       "      <td>1.969027</td>\n",
       "      <td>14.020657</td>\n",
       "      <td>799.613058</td>\n",
       "    </tr>\n",
       "    <tr>\n",
       "      <th>min</th>\n",
       "      <td>32.100000</td>\n",
       "      <td>13.100000</td>\n",
       "      <td>172.000000</td>\n",
       "      <td>2700.000000</td>\n",
       "    </tr>\n",
       "    <tr>\n",
       "      <th>25%</th>\n",
       "      <td>39.275000</td>\n",
       "      <td>15.600000</td>\n",
       "      <td>190.000000</td>\n",
       "      <td>3550.000000</td>\n",
       "    </tr>\n",
       "    <tr>\n",
       "      <th>50%</th>\n",
       "      <td>44.250000</td>\n",
       "      <td>17.300000</td>\n",
       "      <td>197.000000</td>\n",
       "      <td>4050.000000</td>\n",
       "    </tr>\n",
       "    <tr>\n",
       "      <th>75%</th>\n",
       "      <td>48.500000</td>\n",
       "      <td>18.700000</td>\n",
       "      <td>213.000000</td>\n",
       "      <td>4750.000000</td>\n",
       "    </tr>\n",
       "    <tr>\n",
       "      <th>max</th>\n",
       "      <td>59.600000</td>\n",
       "      <td>21.500000</td>\n",
       "      <td>231.000000</td>\n",
       "      <td>6300.000000</td>\n",
       "    </tr>\n",
       "  </tbody>\n",
       "</table>\n",
       "</div>"
      ],
      "text/plain": [
       "       bill_length_mm  bill_depth_mm  flipper_length_mm  body_mass_g\n",
       "count      344.000000     344.000000         344.000000   344.000000\n",
       "mean        43.921930      17.151170         200.915205  4201.754386\n",
       "std          5.443643       1.969027          14.020657   799.613058\n",
       "min         32.100000      13.100000         172.000000  2700.000000\n",
       "25%         39.275000      15.600000         190.000000  3550.000000\n",
       "50%         44.250000      17.300000         197.000000  4050.000000\n",
       "75%         48.500000      18.700000         213.000000  4750.000000\n",
       "max         59.600000      21.500000         231.000000  6300.000000"
      ]
     },
     "execution_count": 26,
     "metadata": {},
     "output_type": "execute_result"
    }
   ],
   "source": [
    "bird.describe()"
   ]
  },
  {
   "cell_type": "markdown",
   "id": "6cb35089-5234-48b2-b340-7671fbdc581f",
   "metadata": {},
   "source": [
    "<hr>\n",
    "<h3>Exploratory Data Analysis (EDA)</h3>\n",
    "<hr>"
   ]
  },
  {
   "cell_type": "markdown",
   "id": "68e79d18-0a5e-4743-b4f3-ab141756c334",
   "metadata": {},
   "source": [
    "<h3>1. Which Species is the heaviest?</h3>"
   ]
  },
  {
   "cell_type": "code",
   "execution_count": 27,
   "id": "ad271cea-0b1f-42ce-b9cd-cdb2c61da53f",
   "metadata": {},
   "outputs": [
    {
     "data": {
      "text/plain": [
       "np.float64(4775.0)"
      ]
     },
     "execution_count": 27,
     "metadata": {},
     "output_type": "execute_result"
    }
   ],
   "source": [
    "bird[bird[\"species\"] == \"Adelie\"][\"body_mass_g\"].max()"
   ]
  },
  {
   "cell_type": "code",
   "execution_count": 28,
   "id": "41f453e6-3c32-4d4d-a24f-6b9310944fd7",
   "metadata": {},
   "outputs": [
    {
     "data": {
      "text/plain": [
       "np.float64(6300.0)"
      ]
     },
     "execution_count": 28,
     "metadata": {},
     "output_type": "execute_result"
    }
   ],
   "source": [
    "bird[bird[\"species\"] == \"Gentoo\"][\"body_mass_g\"].max()"
   ]
  },
  {
   "cell_type": "code",
   "execution_count": 29,
   "id": "6fd51231-2f96-4cd1-9230-667b07ce3437",
   "metadata": {},
   "outputs": [
    {
     "data": {
      "text/plain": [
       "np.float64(4800.0)"
      ]
     },
     "execution_count": 29,
     "metadata": {},
     "output_type": "execute_result"
    }
   ],
   "source": [
    "bird[bird[\"species\"] == \"Chinstrap\"][\"body_mass_g\"].max()"
   ]
  },
  {
   "cell_type": "markdown",
   "id": "1c851e35-a4ae-408d-9623-e76b6645253f",
   "metadata": {},
   "source": [
    "<h4>Insights:</h4>"
   ]
  },
  {
   "cell_type": "markdown",
   "id": "0f38e154-723a-4147-869a-71bd31bdd6c0",
   "metadata": {},
   "source": [
    "<p>According to the result above, <strong>Gentoo</strong> is the species that has the most weight.</p> \n",
    "<hr>"
   ]
  },
  {
   "cell_type": "markdown",
   "id": "2437358e-99f5-4b1c-9e1b-3561a2f39e4a",
   "metadata": {},
   "source": [
    "<h3>2. What year did the penguins gain the most weight?</h3>"
   ]
  },
  {
   "cell_type": "code",
   "execution_count": 30,
   "id": "fddee549-9b2a-48fb-8ef7-ddaf02559576",
   "metadata": {},
   "outputs": [
    {
     "data": {
      "text/plain": [
       "np.float64(4125.24322169059)"
      ]
     },
     "execution_count": 30,
     "metadata": {},
     "output_type": "execute_result"
    }
   ],
   "source": [
    "bird[bird[\"year\"] == 2007][\"body_mass_g\"].mean()"
   ]
  },
  {
   "cell_type": "code",
   "execution_count": 31,
   "id": "3a0f6932-41ee-4490-a04b-9252f0144f9f",
   "metadata": {},
   "outputs": [
    {
     "data": {
      "text/plain": [
       "np.float64(4266.666666666667)"
      ]
     },
     "execution_count": 31,
     "metadata": {},
     "output_type": "execute_result"
    }
   ],
   "source": [
    "bird[bird[\"year\"] == 2008][\"body_mass_g\"].mean()"
   ]
  },
  {
   "cell_type": "code",
   "execution_count": 32,
   "id": "1752d5ef-0a8a-418a-b795-7a2788db5e1f",
   "metadata": {},
   "outputs": [
    {
     "data": {
      "text/plain": [
       "np.float64(4210.222953216375)"
      ]
     },
     "execution_count": 32,
     "metadata": {},
     "output_type": "execute_result"
    }
   ],
   "source": [
    "bird[bird[\"year\"] == 2009][\"body_mass_g\"].mean()"
   ]
  },
  {
   "cell_type": "markdown",
   "id": "2232f090-a091-4296-99e7-3778983600bc",
   "metadata": {},
   "source": [
    "<h4>Insights:</h4>"
   ]
  },
  {
   "cell_type": "markdown",
   "id": "a943d134-51fd-48eb-b9bf-20b49dd8062d",
   "metadata": {},
   "source": [
    "<h5>Based on the reult above, penguins born or alive in year <strong>2008</strong> have gain a lot of weight</h5>\n",
    "<hr>"
   ]
  },
  {
   "cell_type": "markdown",
   "id": "2935f2ed-d95d-4ccc-9423-bfacc3c9e553",
   "metadata": {},
   "source": [
    "<h3>3. What species of penguins in year 2008 has most weight?</h3>"
   ]
  },
  {
   "cell_type": "code",
   "execution_count": 33,
   "id": "6a4f5bb3-00ae-478b-a9de-696cb8d5d75f",
   "metadata": {},
   "outputs": [],
   "source": [
    "weight2008 = bird.groupby([\"species\", \"year\"])[\"body_mass_g\"].mean()"
   ]
  },
  {
   "cell_type": "code",
   "execution_count": 34,
   "id": "6695f1ba-5ae5-476d-97b4-7b8e0c7ebacf",
   "metadata": {},
   "outputs": [
    {
     "data": {
      "text/plain": [
       "species    year\n",
       "Adelie     2007    3706.535088\n",
       "           2008    3742.000000\n",
       "           2009    3664.903846\n",
       "Chinstrap  2007    3694.230769\n",
       "           2008    3800.000000\n",
       "           2009    3725.000000\n",
       "Gentoo     2007    5070.588235\n",
       "           2008    5019.565217\n",
       "           2009    5119.358054\n",
       "Name: body_mass_g, dtype: float64"
      ]
     },
     "execution_count": 34,
     "metadata": {},
     "output_type": "execute_result"
    }
   ],
   "source": [
    "weight2008"
   ]
  },
  {
   "cell_type": "markdown",
   "id": "e4f38c59-c80a-4472-b6f8-0beefb145846",
   "metadata": {},
   "source": [
    "<h4>Insights:</h4>"
   ]
  },
  {
   "cell_type": "markdown",
   "id": "68ad17c6-a87e-4b24-9513-2c625afcf6b7",
   "metadata": {},
   "source": [
    "<h5>According to the result, the species of penguins that has the most weight in year <strong>2008</strong> is the Gentoo, with and average body mass of 5019.56 which is the highest among the species</h5>\n",
    "<hr>"
   ]
  },
  {
   "cell_type": "markdown",
   "id": "a30541fa-e09c-4d1c-b1b1-3ac3402009e2",
   "metadata": {},
   "source": [
    "<h3>4. What island is more prone for penguins species to have more weight?</h3>"
   ]
  },
  {
   "cell_type": "code",
   "execution_count": 35,
   "id": "cc561776-f888-430e-96fa-5ec0ba3946fa",
   "metadata": {},
   "outputs": [],
   "source": [
    "islandweight = bird.groupby([\"island\"])[\"body_mass_g\"].mean()"
   ]
  },
  {
   "cell_type": "code",
   "execution_count": 36,
   "id": "9cbd2eb7-5205-471e-8f7f-3a5bdc1a4948",
   "metadata": {},
   "outputs": [
    {
     "data": {
      "text/plain": [
       "island\n",
       "Biscoe       4712.956871\n",
       "Dream        3712.903226\n",
       "Torgersen    3715.899123\n",
       "Name: body_mass_g, dtype: float64"
      ]
     },
     "execution_count": 36,
     "metadata": {},
     "output_type": "execute_result"
    }
   ],
   "source": [
    "islandweight"
   ]
  },
  {
   "cell_type": "markdown",
   "id": "c7dee079-4c08-47a3-9a35-819a0917628e",
   "metadata": {},
   "source": [
    "<h5>Based on the result that I achieved is that <strong>Biscoe</strong>, an island was more prone for penguins to have more weight. Additionally, Biscoe has a large amount of penguins</h5> <hr>"
   ]
  },
  {
   "cell_type": "markdown",
   "id": "7e134799-f901-4153-8c24-b9a18ec4bf61",
   "metadata": {},
   "source": [
    "<h3>5. Which sex has the minimum or the smallest flipper length?</h3>"
   ]
  },
  {
   "cell_type": "code",
   "execution_count": 37,
   "id": "188a2111-eeb1-45fe-bd98-ad66294d9943",
   "metadata": {},
   "outputs": [],
   "source": [
    "sexflipper = bird.groupby([\"sex\"])[\"flipper_length_mm\"].min()"
   ]
  },
  {
   "cell_type": "code",
   "execution_count": 38,
   "id": "3b866d00-98f6-4f54-bf1b-f21c265298cd",
   "metadata": {},
   "outputs": [
    {
     "data": {
      "text/plain": [
       "sex\n",
       "female    172.0\n",
       "male      178.0\n",
       "Name: flipper_length_mm, dtype: float64"
      ]
     },
     "execution_count": 38,
     "metadata": {},
     "output_type": "execute_result"
    }
   ],
   "source": [
    "sexflipper"
   ]
  },
  {
   "cell_type": "markdown",
   "id": "29a50ea1-8631-4935-b54f-7aab27bab273",
   "metadata": {},
   "source": [
    "<h4>Insight:</h4>"
   ]
  },
  {
   "cell_type": "markdown",
   "id": "cb13f01f-37f4-4713-81d6-18bb3bee68ca",
   "metadata": {
    "jp-MarkdownHeadingCollapsed": true
   },
   "source": [
    "<h5>According to the result above, Female penguin had the shortest flipper with the maximum length of <strong>172.0</strong> while the female penguins only has <strong>178.0</strong></h5><hr>\n"
   ]
  },
  {
   "cell_type": "markdown",
   "id": "98f78a39-d2ab-49ea-b486-70b76f967b46",
   "metadata": {},
   "source": [
    "<h3>6. Which island is the most populated by penguins?</h3>"
   ]
  },
  {
   "cell_type": "code",
   "execution_count": 39,
   "id": "fe8d8d36-8141-4cb0-80b3-7de2b151650f",
   "metadata": {},
   "outputs": [
    {
     "data": {
      "text/plain": [
       "island\n",
       "Biscoe       168\n",
       "Dream        124\n",
       "Torgersen     52\n",
       "Name: count, dtype: int64"
      ]
     },
     "execution_count": 39,
     "metadata": {},
     "output_type": "execute_result"
    }
   ],
   "source": [
    "bird[\"island\"].value_counts()"
   ]
  },
  {
   "cell_type": "markdown",
   "id": "f3fcd6de-7bb1-439d-9e00-f16bae6dfca1",
   "metadata": {},
   "source": [
    "<h4>Insight:</h4>"
   ]
  },
  {
   "cell_type": "markdown",
   "id": "b509a988-200d-4275-ad33-e4e8ceee3d18",
   "metadata": {},
   "source": [
    "<h5>Based on the result, Biscoe is the most populated island with a population of <strong>168</strong> while Dream had a population of <strong>123</strong> and Torgersen with <strong>52</strong></h5> <hr>"
   ]
  },
  {
   "cell_type": "markdown",
   "id": "09d548ee-bc5f-4255-9d0b-fa01b8e5b68b",
   "metadata": {},
   "source": [
    "<h3>7. What species are the most dominant in year 2008?</h3>"
   ]
  },
  {
   "cell_type": "code",
   "execution_count": 40,
   "id": "66e17800-c36d-4ad0-8007-d7f7f770264e",
   "metadata": {},
   "outputs": [
    {
     "data": {
      "text/plain": [
       "species\n",
       "Adelie       50\n",
       "Gentoo       46\n",
       "Chinstrap    18\n",
       "Name: count, dtype: int64"
      ]
     },
     "execution_count": 40,
     "metadata": {},
     "output_type": "execute_result"
    }
   ],
   "source": [
    "bird[bird[\"year\"] == 2008][\"species\"].value_counts()"
   ]
  },
  {
   "cell_type": "markdown",
   "id": "9b06f255-f28b-4e50-951a-b5a7f4ea2d69",
   "metadata": {},
   "source": [
    "<h5>According to the result, <strong>Adelie</strong> are the most dominant species in year 2008, followed by <strong>Gentoo</strong> and <strong>Chinstrap</strong></h5>"
   ]
  },
  {
   "cell_type": "markdown",
   "id": "a9226f1f-8194-41cb-98f1-c3a812d554a7",
   "metadata": {},
   "source": [
    "<hr>\n",
    "<h3>Correlational Analysis</h3>\n",
    "<h3>Testing Correlation with Pearson R</h3>\n",
    "<hr>"
   ]
  },
  {
   "cell_type": "markdown",
   "id": "572f2467-1b84-4671-9130-470827aad644",
   "metadata": {},
   "source": [
    "<h3>8. Does having a lot of body mass correlates their flipperlength?</h3>"
   ]
  },
  {
   "cell_type": "code",
   "execution_count": 48,
   "id": "5815f902-e401-4c4f-8c17-0df89767fd24",
   "metadata": {},
   "outputs": [],
   "source": [
    "mass_flipper_cor = bird[\"flipper_length_mm\"].corr(bird[\"body_mass_g\"])"
   ]
  },
  {
   "cell_type": "code",
   "execution_count": 49,
   "id": "3fda2075-54b3-4c7a-b7b6-7ff7e3aa9023",
   "metadata": {},
   "outputs": [
    {
     "data": {
      "text/plain": [
       "np.float64(0.8712017673060114)"
      ]
     },
     "execution_count": 49,
     "metadata": {},
     "output_type": "execute_result"
    }
   ],
   "source": [
    "mass_flipper_cor"
   ]
  },
  {
   "cell_type": "markdown",
   "id": "7f2700be-434c-483b-b7f0-7e937bb8e179",
   "metadata": {},
   "source": [
    "<h4>Insight:</h4>\n",
    "<h5>Yes, the bodymass and flipperlength have Correlation</h5><hr>"
   ]
  },
  {
   "cell_type": "markdown",
   "id": "7691d349-69cc-4da8-82ca-6c808bd48655",
   "metadata": {},
   "source": [
    "<h3>9. Is there any correlation between the species and it's body mass?</h3>"
   ]
  },
  {
   "cell_type": "code",
   "execution_count": 41,
   "id": "9b0d071c-abdf-47c0-990c-021dafc53e02",
   "metadata": {},
   "outputs": [],
   "source": [
    "from scipy.stats import f_oneway"
   ]
  },
  {
   "cell_type": "code",
   "execution_count": 42,
   "id": "711447a1-30db-47be-a735-bbcc0f1d08bc",
   "metadata": {
    "scrolled": true
   },
   "outputs": [
    {
     "data": {
      "text/plain": [
       "276    3500.0\n",
       "277    3900.0\n",
       "278    3650.0\n",
       "279    3525.0\n",
       "280    3725.0\n",
       "        ...  \n",
       "339    4000.0\n",
       "340    3400.0\n",
       "341    3775.0\n",
       "342    4100.0\n",
       "343    3775.0\n",
       "Name: body_mass_g, Length: 68, dtype: float64"
      ]
     },
     "execution_count": 42,
     "metadata": {},
     "output_type": "execute_result"
    }
   ],
   "source": [
    "bird[bird[\"species\"] == \"Adelie\"][\"body_mass_g\"]\n",
    "bird[bird[\"species\"] == \"Gentoo\"][\"body_mass_g\"]\n",
    "bird[bird[\"species\"] == \"Chinstrap\"][\"body_mass_g\"]"
   ]
  },
  {
   "cell_type": "code",
   "execution_count": 43,
   "id": "3d05bca0-9477-4594-bd4e-c10de6b88ac6",
   "metadata": {},
   "outputs": [
    {
     "data": {
      "text/plain": [
       "F_onewayResult(statistic=np.float64(338.5729100782219), pvalue=np.float64(1.0069770504491128e-81))"
      ]
     },
     "execution_count": 43,
     "metadata": {},
     "output_type": "execute_result"
    }
   ],
   "source": [
    "f_oneway(bird[bird[\"species\"] == \"Adelie\"][\"body_mass_g\"],bird[bird[\"species\"] == \"Gentoo\"][\"body_mass_g\"],bird[bird[\"species\"] == \"Chinstrap\"][\"body_mass_g\"])"
   ]
  },
  {
   "cell_type": "markdown",
   "id": "4bbe7ff4-38f5-4e5b-a307-d56c2517635f",
   "metadata": {},
   "source": [
    "<h4>Insight:</h4>"
   ]
  },
  {
   "cell_type": "markdown",
   "id": "55067686-ffe1-422e-89b1-579b17524209",
   "metadata": {},
   "source": [
    "<h5>Yes, there is a correlation between the species and their body mass, because the Pvalue is more than 0.5.</h5>"
   ]
  },
  {
   "cell_type": "markdown",
   "id": "49566a02-6ae9-4f46-b1cf-7d6300b96faf",
   "metadata": {},
   "source": [
    "<h3>10. Do penguins with longer flippers tend to weigh more?<h3?"
   ]
  },
  {
   "cell_type": "code",
   "execution_count": 44,
   "id": "06ac3dd8-3abe-4f7b-a8c4-0be8f6b65579",
   "metadata": {},
   "outputs": [
    {
     "data": {
      "text/html": [
       "<div>\n",
       "<style scoped>\n",
       "    .dataframe tbody tr th:only-of-type {\n",
       "        vertical-align: middle;\n",
       "    }\n",
       "\n",
       "    .dataframe tbody tr th {\n",
       "        vertical-align: top;\n",
       "    }\n",
       "\n",
       "    .dataframe thead th {\n",
       "        text-align: right;\n",
       "    }\n",
       "</style>\n",
       "<table border=\"1\" class=\"dataframe\">\n",
       "  <thead>\n",
       "    <tr style=\"text-align: right;\">\n",
       "      <th></th>\n",
       "      <th>flipper_length_mm</th>\n",
       "      <th>body_mass_g</th>\n",
       "    </tr>\n",
       "  </thead>\n",
       "  <tbody>\n",
       "    <tr>\n",
       "      <th>flipper_length_mm</th>\n",
       "      <td>1.000000</td>\n",
       "      <td>0.871202</td>\n",
       "    </tr>\n",
       "    <tr>\n",
       "      <th>body_mass_g</th>\n",
       "      <td>0.871202</td>\n",
       "      <td>1.000000</td>\n",
       "    </tr>\n",
       "  </tbody>\n",
       "</table>\n",
       "</div>"
      ],
      "text/plain": [
       "                   flipper_length_mm  body_mass_g\n",
       "flipper_length_mm           1.000000     0.871202\n",
       "body_mass_g                 0.871202     1.000000"
      ]
     },
     "execution_count": 44,
     "metadata": {},
     "output_type": "execute_result"
    }
   ],
   "source": [
    "bird[['flipper_length_mm', 'body_mass_g']].corr()"
   ]
  },
  {
   "cell_type": "markdown",
   "id": "e742c889-8586-494d-8333-33023ee642fd",
   "metadata": {},
   "source": [
    "<h4>Insight:</h4>\n",
    "<h5>Yes, there's a correlation between both flipper length and bodymass. So, this indicates that Penguins with longer flipper tend to have more body mass. Which kinda make sense because penguins that are generally big or large according to their mass need more longer or stronger flipper to swim</h5>"
   ]
  },
  {
   "cell_type": "markdown",
   "id": "58114e28-f179-47a4-951c-94aea8534ef8",
   "metadata": {},
   "source": [
    "<h3>11. Is there a relationship between bill length and flipper length?</h3>"
   ]
  },
  {
   "cell_type": "code",
   "execution_count": 65,
   "id": "fbb38eb0-e1cf-4397-97e1-48c148891577",
   "metadata": {},
   "outputs": [],
   "source": [
    "birds = bird[['bill_length_mm', 'flipper_length_mm']].corr()"
   ]
  },
  {
   "cell_type": "markdown",
   "id": "34e9aef3-bab1-4c98-a7d6-654dde3cd183",
   "metadata": {},
   "source": [
    "<h4>Insight:</h4>\n",
    "<h5>Yes, there's a correlation between both bill length and flipper length. Penguins with longer bills also tend to have longer flippers.</h5>"
   ]
  },
  {
   "cell_type": "markdown",
   "id": "fa48a14f-eac7-4dff-8373-1528e0e7e526",
   "metadata": {},
   "source": [
    "<h3>12. Are bill length and bill depth related?</h3>"
   ]
  },
  {
   "cell_type": "code",
   "execution_count": 46,
   "id": "ba4e6db7-1ee3-4e9e-8c07-01e1c76eb2cb",
   "metadata": {},
   "outputs": [
    {
     "data": {
      "text/html": [
       "<div>\n",
       "<style scoped>\n",
       "    .dataframe tbody tr th:only-of-type {\n",
       "        vertical-align: middle;\n",
       "    }\n",
       "\n",
       "    .dataframe tbody tr th {\n",
       "        vertical-align: top;\n",
       "    }\n",
       "\n",
       "    .dataframe thead th {\n",
       "        text-align: right;\n",
       "    }\n",
       "</style>\n",
       "<table border=\"1\" class=\"dataframe\">\n",
       "  <thead>\n",
       "    <tr style=\"text-align: right;\">\n",
       "      <th></th>\n",
       "      <th>bill_length_mm</th>\n",
       "      <th>bill_depth_mm</th>\n",
       "    </tr>\n",
       "  </thead>\n",
       "  <tbody>\n",
       "    <tr>\n",
       "      <th>bill_length_mm</th>\n",
       "      <td>1.000000</td>\n",
       "      <td>-0.235053</td>\n",
       "    </tr>\n",
       "    <tr>\n",
       "      <th>bill_depth_mm</th>\n",
       "      <td>-0.235053</td>\n",
       "      <td>1.000000</td>\n",
       "    </tr>\n",
       "  </tbody>\n",
       "</table>\n",
       "</div>"
      ],
      "text/plain": [
       "                bill_length_mm  bill_depth_mm\n",
       "bill_length_mm        1.000000      -0.235053\n",
       "bill_depth_mm        -0.235053       1.000000"
      ]
     },
     "execution_count": 46,
     "metadata": {},
     "output_type": "execute_result"
    }
   ],
   "source": [
    "bird[['bill_length_mm', 'bill_depth_mm']].corr()"
   ]
  },
  {
   "cell_type": "markdown",
   "id": "a26630c7-e904-4efe-be86-51469753314d",
   "metadata": {},
   "source": [
    "<h4>Insight:</h4>\n",
    "<h5>Nope, apparently we got some negative correlation, because Penguins with longer bills tend to have shallower bills, and vice versa.</h5>"
   ]
  },
  {
   "cell_type": "markdown",
   "id": "792e83f2-ab3f-4fdb-a683-675f353ba1f1",
   "metadata": {},
   "source": [
    "<h3>13. Does the bodymass of the penguin differ each year?</h3>"
   ]
  },
  {
   "cell_type": "code",
   "execution_count": 47,
   "id": "df1dad24-7ed2-416d-82f6-a14c34781a77",
   "metadata": {},
   "outputs": [
    {
     "data": {
      "text/plain": [
       "year\n",
       "2007    4125.243222\n",
       "2008    4266.666667\n",
       "2009    4210.222953\n",
       "Name: body_mass_g, dtype: float64"
      ]
     },
     "execution_count": 47,
     "metadata": {},
     "output_type": "execute_result"
    }
   ],
   "source": [
    "bird.groupby([\"year\"])[\"body_mass_g\"].mean()"
   ]
  },
  {
   "cell_type": "markdown",
   "id": "876a77b1-feb3-446f-89f6-2f11b20d5eae",
   "metadata": {},
   "source": [
    "<h4>Insight:</h4>\n",
    "<h5>Yes, the bodymass of the penguin differs each year, as we can see through the result, the average weight in 2007 is <strong>4125.243222</strong> and in 2008 it increases to <strong>4266.666667</strong> which is 3.43% increase in body mass, while in 2009 it slightly decreases in <strong>4210.222953</strong> which is 1.32% less in body mass.</h5><hr>"
   ]
  },
  {
   "cell_type": "markdown",
   "id": "c5c75ef6-8055-4d2f-8c56-1dcfecf26753",
   "metadata": {},
   "source": [
    "<h3>14. Which species of penguins is the most dominant in year 2009?</h3>"
   ]
  },
  {
   "cell_type": "code",
   "execution_count": 50,
   "id": "ec1554f3-d2ea-4a30-a032-a50f9c2c7ffb",
   "metadata": {},
   "outputs": [],
   "source": [
    "sp_2009 = bird[bird[\"year\"] == 2009].groupby(\"species\").size()"
   ]
  },
  {
   "cell_type": "code",
   "execution_count": 51,
   "id": "c90964c2-768b-4060-b8c1-5ea5acffe9a6",
   "metadata": {},
   "outputs": [
    {
     "data": {
      "text/plain": [
       "species\n",
       "Adelie       52\n",
       "Chinstrap    24\n",
       "Gentoo       44\n",
       "dtype: int64"
      ]
     },
     "execution_count": 51,
     "metadata": {},
     "output_type": "execute_result"
    }
   ],
   "source": [
    "sp_2009"
   ]
  },
  {
   "cell_type": "markdown",
   "id": "1aa0c6f2-6724-4c18-a082-156a5ee0b1f2",
   "metadata": {},
   "source": [
    "<h4>Insight:</h4>\n",
    "<h5>The result that I achieved in this question is that, in the year 2009, the most dominant species is the <strong>Adelie</strong> with 52 penguins, followed by Gentoo with 24 penguins and Chinstrap with 44 penguins</h5><hr>"
   ]
  },
  {
   "cell_type": "markdown",
   "id": "dd71dea1-46e9-4915-bfff-a28b2a7b1d45",
   "metadata": {},
   "source": [
    "<h3>15. Which species is the least dominant in year 2007?</h3>"
   ]
  },
  {
   "cell_type": "code",
   "execution_count": 52,
   "id": "8e3cff59-881b-49f1-835c-dcac785ad4bd",
   "metadata": {},
   "outputs": [],
   "source": [
    "sp_2007 = bird[bird[\"year\"] == 2007].groupby(\"species\").size()"
   ]
  },
  {
   "cell_type": "code",
   "execution_count": 53,
   "id": "62255709-6659-4c7f-afee-c82005a08437",
   "metadata": {},
   "outputs": [
    {
     "data": {
      "text/plain": [
       "species\n",
       "Adelie       50\n",
       "Chinstrap    26\n",
       "Gentoo       34\n",
       "dtype: int64"
      ]
     },
     "execution_count": 53,
     "metadata": {},
     "output_type": "execute_result"
    }
   ],
   "source": [
    "sp_2007"
   ]
  },
  {
   "cell_type": "markdown",
   "id": "87704ca9-0698-43cd-8fd0-a98e407d874d",
   "metadata": {},
   "source": [
    "<h4>Insight:</h4>\n",
    "<h5>The result that I achieved in this question is that, in the year 2007, the most dominant species is the <strong>Adelie</strong> with 50 penguins, followed by Gentoo with 26 penguins and Chinstrap with 34 penguins</h5>"
   ]
  },
  {
   "cell_type": "markdown",
   "id": "91b340d8-d0cf-4d48-9f6a-672db5f9d5d7",
   "metadata": {},
   "source": [
    "<hr>\n",
    "<h3>Data Aggregation</h3>\n",
    "<Hr></Hr>"
   ]
  },
  {
   "cell_type": "code",
   "execution_count": 54,
   "id": "55d68277-7a3c-4ee1-a6c6-b188cadc034c",
   "metadata": {},
   "outputs": [],
   "source": [
    "sp_is_x = bird.groupby([\"species\", \"island\", \"sex\"]).size()"
   ]
  },
  {
   "cell_type": "code",
   "execution_count": 55,
   "id": "2cd353dd-081b-4675-a826-a6f8bbb77cee",
   "metadata": {},
   "outputs": [
    {
     "data": {
      "text/plain": [
       "species    island     sex   \n",
       "Adelie     Biscoe     female    22\n",
       "                      male      22\n",
       "           Dream      female    27\n",
       "                      male      29\n",
       "           Torgersen  female    24\n",
       "                      male      28\n",
       "Chinstrap  Biscoe     female     0\n",
       "                      male       0\n",
       "           Dream      female    34\n",
       "                      male      34\n",
       "           Torgersen  female     0\n",
       "                      male       0\n",
       "Gentoo     Biscoe     female    58\n",
       "                      male      66\n",
       "           Dream      female     0\n",
       "                      male       0\n",
       "           Torgersen  female     0\n",
       "                      male       0\n",
       "dtype: int64"
      ]
     },
     "execution_count": 55,
     "metadata": {},
     "output_type": "execute_result"
    }
   ],
   "source": [
    "sp_is_x"
   ]
  },
  {
   "cell_type": "markdown",
   "id": "67dfa997-ffc9-44be-a30e-e88c41cee4c5",
   "metadata": {},
   "source": [
    "<h3>Data Visualization</h3>"
   ]
  },
  {
   "cell_type": "code",
   "execution_count": 56,
   "id": "caf89f57-1479-4299-9706-b907e8a864d7",
   "metadata": {},
   "outputs": [],
   "source": [
    "import matplotlib.pyplot as plt"
   ]
  },
  {
   "cell_type": "code",
   "execution_count": 57,
   "id": "b8a56492-f542-40ee-bd2c-a2005b7fee2d",
   "metadata": {},
   "outputs": [],
   "source": [
    "bird_count = bird[\"species\"].value_counts()"
   ]
  },
  {
   "cell_type": "code",
   "execution_count": 58,
   "id": "e9762061-004a-40a0-b416-d05fd6698db0",
   "metadata": {},
   "outputs": [
    {
     "data": {
      "text/plain": [
       "species\n",
       "Adelie       152\n",
       "Gentoo       124\n",
       "Chinstrap     68\n",
       "Name: count, dtype: int64"
      ]
     },
     "execution_count": 58,
     "metadata": {},
     "output_type": "execute_result"
    }
   ],
   "source": [
    "bird_count"
   ]
  },
  {
   "cell_type": "code",
   "execution_count": 59,
   "id": "2fc7e487-7db1-49f7-94f4-cfdddfb440f1",
   "metadata": {},
   "outputs": [
    {
     "data": {
      "image/png": "[encoded data removed]",
      "text/plain": [
       "<Figure size 640x480 with 1 Axes>"
      ]
     },
     "metadata": {},
     "output_type": "display_data"
    }
   ],
   "source": [
    "#plt.bar(x, y, optional values, colors)\n",
    "plt.bar(bird_count.index, bird_count.values, color = [\"#383838\", \"gray\", \"#E8E8E8\"])\n",
    "plt.xlabel(\"SPECIES\")\n",
    "plt.ylabel(\"POPULATION\")\n",
    "plt.show()"
   ]
  },
  {
   "cell_type": "code",
   "execution_count": 60,
   "id": "c1bff902-d6f0-42d3-8b3d-fbe37ef1669a",
   "metadata": {},
   "outputs": [],
   "source": [
    "bird_count_sex = bird[\"sex\"].value_counts()"
   ]
  },
  {
   "cell_type": "code",
   "execution_count": 61,
   "id": "f1a36e90-5149-4c05-b845-e7f64ea95117",
   "metadata": {},
   "outputs": [
    {
     "data": {
      "text/plain": [
       "sex\n",
       "male      179\n",
       "female    165\n",
       "Name: count, dtype: int64"
      ]
     },
     "execution_count": 61,
     "metadata": {},
     "output_type": "execute_result"
    }
   ],
   "source": [
    "bird_count_sex"
   ]
  },
  {
   "cell_type": "code",
   "execution_count": 62,
   "id": "d3c673e5-483f-4e2a-a72e-a42475e8bcc3",
   "metadata": {},
   "outputs": [
    {
     "data": {
      "image/png": "[encoded data removed]",
      "text/plain": [
       "<Figure size 640x480 with 1 Axes>"
      ]
     },
     "metadata": {},
     "output_type": "display_data"
    }
   ],
   "source": [
    "plt.bar(bird_count_sex.index, bird_count_sex.values, color = [\"#383838\", \"#E8E8E8\"])\n",
    "plt.xlabel(\"SPECIES\")\n",
    "plt.ylabel(\"POPULATION\")\n",
    "plt.show()"
   ]
  },
  {
   "cell_type": "code",
   "execution_count": 63,
   "id": "62526900-d795-44e5-8bf6-16d6a81a58ae",
   "metadata": {},
   "outputs": [
    {
     "data": {
      "image/png": "[encoded data removed]",
      "text/plain": [
       "<Figure size 640x480 with 1 Axes>"
      ]
     },
     "metadata": {},
     "output_type": "display_data"
    }
   ],
   "source": [
    "bird_count_species = bird[\"species\"].value_counts()\n",
    "bird_count_species\n",
    "labels = ['Adelie', 'Gentoo', 'Chinstrap']\n",
    "plt.pie(bird_count_species, labels = labels, autopct='%1.1f%%')\n",
    "plt.title(\"Species of Penguins\")\n",
    "plt.show()"
   ]
  },
  {
   "cell_type": "code",
   "execution_count": null,
   "id": "e8f11429-8e89-43c8-93a2-9148e16f74a8",
   "metadata": {},
   "outputs": [],
   "source": []
  }
 ],
 "metadata": {
  "kernelspec": {
   "display_name": "Python 3 (ipykernel)",
   "language": "python",
   "name": "python3"
  },
  "language_info": {
   "codemirror_mode": {
    "name": "ipython",
    "version": 3
   },
   "file_extension": ".py",
   "mimetype": "text/x-python",
   "name": "python",
   "nbconvert_exporter": "python",
   "pygments_lexer": "ipython3",
   "version": "3.13.1"
  }
 },
 "nbformat": 4,
 "nbformat_minor": 5
}
